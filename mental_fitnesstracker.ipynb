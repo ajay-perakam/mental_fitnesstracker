{
  "nbformat": 4,
  "nbformat_minor": 0,
  "metadata": {
    "colab": {
      "provenance": [],
      "mount_file_id": "1d9AFGtZ-DkvxAN-u7XuorAdO3HXp0dEu",
      "authorship_tag": "ABX9TyNpcG2cnez8gRqEi1SyVutC",
      "include_colab_link": true
    },
    "kernelspec": {
      "name": "python3",
      "display_name": "Python 3"
    },
    "language_info": {
      "name": "python"
    }
  },
  "cells": [
    {
      "cell_type": "markdown",
      "metadata": {
        "id": "view-in-github",
        "colab_type": "text"
      },
      "source": [
        "<a href=\"https://colab.research.google.com/github/ajay-perakam/mental_fitnesstracker/blob/main/mental_fitnesstracker.ipynb\" target=\"_parent\"><img src=\"https://colab.research.google.com/assets/colab-badge.svg\" alt=\"Open In Colab\"/></a>"
      ]
    },
    {
      "cell_type": "code",
      "execution_count": 35,
      "metadata": {
        "id": "SWxBDf-6zbUX"
      },
      "outputs": [],
      "source": [
        "import warnings\n",
        "warnings.filterwarnings('ignore')"
      ]
    },
    {
      "cell_type": "code",
      "source": [
        "import numpy as np\n",
        "import pandas as pd"
      ],
      "metadata": {
        "id": "HM6SjfX4zo-N"
      },
      "execution_count": 36,
      "outputs": []
    },
    {
      "cell_type": "code",
      "source": [
        "from google.colab import drive\n",
        "drive.mount('/content/drive')"
      ],
      "metadata": {
        "id": "UqQx5qdZz1Kt"
      },
      "execution_count": null,
      "outputs": []
    },
    {
      "cell_type": "code",
      "source": [
        "import seaborn as sns\n",
        "import matplotlib.pyplot as plt\n",
        "import plotly.express as px"
      ],
      "metadata": {
        "id": "ucC_esy_z86z"
      },
      "execution_count": 5,
      "outputs": []
    },
    {
      "cell_type": "code",
      "source": [
        "df1=pd.read_csv('/5710f8d337e14f0b84b04cf19963ad8d.csv')\n",
        "df2=pd.read_csv('/mental-and-substance-use-as-share-of-disease -AI.csv')"
      ],
      "metadata": {
        "id": "HJqXhxNi0DvI"
      },
      "execution_count": 7,
      "outputs": []
    },
    {
      "cell_type": "code",
      "source": [
        "df1.head()"
      ],
      "metadata": {
        "id": "eKE5zkny0NqK"
      },
      "execution_count": null,
      "outputs": []
    },
    {
      "cell_type": "code",
      "source": [
        "df2.head(10)"
      ],
      "metadata": {
        "id": "u7ebxIUd0Pgm"
      },
      "execution_count": null,
      "outputs": []
    },
    {
      "cell_type": "code",
      "source": [
        "data=pd.merge(df1,df2)\n",
        "data.head(10)"
      ],
      "metadata": {
        "id": "PXPGKiqF1bqC"
      },
      "execution_count": null,
      "outputs": []
    },
    {
      "cell_type": "code",
      "source": [
        "data.isnull().sum()"
      ],
      "metadata": {
        "id": "KQThbP4R1eUI"
      },
      "execution_count": null,
      "outputs": []
    },
    {
      "cell_type": "code",
      "source": [
        "data.drop('Code',axis=1,inplace=True)"
      ],
      "metadata": {
        "id": "ms-FOdID1hUE"
      },
      "execution_count": 12,
      "outputs": []
    },
    {
      "cell_type": "code",
      "source": [
        "data.head(10)"
      ],
      "metadata": {
        "id": "OMRmE9ap1kyo"
      },
      "execution_count": null,
      "outputs": []
    },
    {
      "cell_type": "code",
      "source": [
        "data.size,data.shape"
      ],
      "metadata": {
        "id": "tTXZh7lV1nHJ"
      },
      "execution_count": null,
      "outputs": []
    },
    {
      "cell_type": "code",
      "source": [
        "data.set_axis(['Country','Year','Schizophrenia','Bipolar_disorder','Eating','Anxiety','Drug_use','depression','alcohol','mental_fitness'],axis='columns',inplace=True)"
      ],
      "metadata": {
        "id": "eqXXt3-i3Cz9"
      },
      "execution_count": 19,
      "outputs": []
    },
    {
      "cell_type": "code",
      "source": [
        "data.head(10)"
      ],
      "metadata": {
        "id": "xlgU_5xiR3h5"
      },
      "execution_count": null,
      "outputs": []
    },
    {
      "cell_type": "code",
      "source": [
        "plt.figure(figsize=(12,6))\n",
        "sns.heatmap(data.corr(),annot=True,cmap='Blues')\n",
        "plt.plot()"
      ],
      "metadata": {
        "id": "2t0hzOArR8AK"
      },
      "execution_count": null,
      "outputs": []
    },
    {
      "cell_type": "code",
      "source": [
        "sns.pairplot(data,corner=True)\n",
        "plt.show()"
      ],
      "metadata": {
        "id": "FXkN4GDlSBt2"
      },
      "execution_count": null,
      "outputs": []
    },
    {
      "cell_type": "code",
      "source": [
        "mean=data['mental_fitness'].mean()\n",
        "mean"
      ],
      "metadata": {
        "id": "DXcB6JlBSRYg"
      },
      "execution_count": null,
      "outputs": []
    },
    {
      "cell_type": "code",
      "source": [
        "fig=px.pie(data,values='mental_fitness',names='Year')\n",
        "fig.show()"
      ],
      "metadata": {
        "id": "Buzd-S50SS8a"
      },
      "execution_count": null,
      "outputs": []
    },
    {
      "cell_type": "code",
      "source": [
        "fig=px.line(data,x=\"Year\",y=\"mental_fitness\",color=\"Country\",markers=True,color_discrete_sequence=['red','blue'],template='plotly_dark')\n",
        "fig.show()"
      ],
      "metadata": {
        "id": "mEfxc3tSSVZQ"
      },
      "execution_count": null,
      "outputs": []
    },
    {
      "cell_type": "code",
      "source": [
        "df=pd.DataFrame(data)"
      ],
      "metadata": {
        "id": "PWiyKe2vSXWG"
      },
      "execution_count": 23,
      "outputs": []
    },
    {
      "cell_type": "code",
      "source": [
        "df.info()"
      ],
      "metadata": {
        "id": "IfsDWkCgSaDk"
      },
      "execution_count": null,
      "outputs": []
    },
    {
      "cell_type": "code",
      "source": [
        "from sklearn.preprocessing import LabelEncoder\n",
        "l=LabelEncoder()\n",
        "for i in df.columns:\n",
        "  if df[i].dtype == 'object':\n",
        "    df[i]=l.fit_transform(df[i])"
      ],
      "metadata": {
        "id": "w9MvXjvsSctu"
      },
      "execution_count": 25,
      "outputs": []
    },
    {
      "cell_type": "code",
      "source": [
        "df.shape"
      ],
      "metadata": {
        "id": "xbIYJSKUSfc2"
      },
      "execution_count": null,
      "outputs": []
    },
    {
      "cell_type": "code",
      "source": [
        "x=df.drop('mental_fitness',axis=1)\n",
        "y=df['mental_fitness']\n",
        "from sklearn.model_selection import train_test_split\n",
        "xtrain,xtest,ytrain,ytest=train_test_split(x,y,test_size=.20,random_state=2)"
      ],
      "metadata": {
        "id": "Es7Gm7ihShr2"
      },
      "execution_count": 27,
      "outputs": []
    },
    {
      "cell_type": "code",
      "source": [
        "print(\"xtrain: \",xtrain.shape)\n",
        "print(\"xtest: \",xtest.shape)\n",
        "print(\"\\n ytrain: \",ytrain.shape)\n",
        "print(\"ytest: \",ytest.shape)"
      ],
      "metadata": {
        "id": "S2zuoGjrSkV6"
      },
      "execution_count": null,
      "outputs": []
    },
    {
      "cell_type": "code",
      "source": [
        "from sklearn.linear_model import LinearRegression\n",
        "from sklearn.metrics import mean_squared_error,r2_score\n",
        "lr=LinearRegression()\n",
        "lr.fit(xtrain,ytrain)\n",
        "\n",
        "ytrain_pred=lr.predict(xtrain)\n",
        "mse=mean_squared_error(ytrain,ytrain_pred)\n",
        "rmse=(np.sqrt(mean_squared_error(ytrain,ytrain_pred)))\n",
        "r2=r2_score(ytrain,ytrain_pred)\n",
        "\n",
        "print(\"The Linear Regression model performance for training set\")\n",
        "print(\"----------------------------------------------------\")\n",
        "print('MSE is {}'.format(mse))\n",
        "print('RMSE is {}'.format(rmse))\n",
        "print('R2 score is {}'.format(r2))"
      ],
      "metadata": {
        "id": "om1nZkRFSm9W"
      },
      "execution_count": null,
      "outputs": []
    },
    {
      "cell_type": "code",
      "source": [
        "from sklearn.ensemble import RandomForestRegressor\n",
        "rf=RandomForestRegressor()\n",
        "rf.fit(xtrain,ytrain)\n",
        "\n",
        "ytrain_pred=rf.predict(xtrain)\n",
        "mse=mean_squared_error(ytrain,ytrain_pred)\n",
        "rmse=(np.sqrt(mean_squared_error(ytrain,ytrain_pred)))\n",
        "r2=r2_score(ytrain,ytrain_pred)\n",
        "\n",
        "print(\"The Random Forest Regressor model performance for training set\")\n",
        "print(\"----------------------------------------------------\")\n",
        "print('MSE is {}'.format(mse))\n",
        "print('RMSE is {}'.format(rmse))\n",
        "print('R2 score is {}'.format(r2))"
      ],
      "metadata": {
        "id": "d-6j6AvFSpoU"
      },
      "execution_count": null,
      "outputs": []
    },
    {
      "cell_type": "code",
      "source": [
        "ytest_pred=lr.predict(xtest)\n",
        "mse=mean_squared_error(ytest,ytest_pred)\n",
        "rmse=(np.sqrt(mean_squared_error(ytest,ytest_pred)))\n",
        "r2=r2_score(ytest,ytest_pred)\n",
        "\n",
        "print(\"The Linear Regression model performance for training set\")\n",
        "print(\"----------------------------------------------------\")\n",
        "print('MSE is {}'.format(mse))\n",
        "print('RMSE is {}'.format(rmse))\n",
        "print('R2 score is {}'.format(r2))\n",
        "\n",
        "ytest_pred=rf.predict(xtest)\n",
        "mse=mean_squared_error(ytest,ytest_pred)\n",
        "rmse=(np.sqrt(mean_squared_error(ytest,ytest_pred)))\n",
        "r2=r2_score(ytest,ytest_pred)\n",
        "\n",
        "print(\"\\n \\nThe Random Forest Regressor model performance for training set\")\n",
        "print(\"----------------------------------------------------\")\n",
        "print('MSE is {}'.format(mse))\n",
        "print('RMSE is {}'.format(rmse))\n",
        "print('R2 score is {}'.format(r2))"
      ],
      "metadata": {
        "id": "TazwUu95Su1i"
      },
      "execution_count": null,
      "outputs": []
    }
  ]
}